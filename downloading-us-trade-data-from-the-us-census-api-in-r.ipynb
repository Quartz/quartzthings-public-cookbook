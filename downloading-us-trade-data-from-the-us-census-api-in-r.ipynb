{
 "cells": [
  {
   "cell_type": "markdown",
   "metadata": {
    "deletable": true,
    "editable": true
   },
   "source": [
    "# Downloading US trade data from the US Census API in R\n",
    "\n",
    "This notebook shows how to use the `censusapi` package in R to access US data on imports and exports"
   ]
  },
  {
   "cell_type": "markdown",
   "metadata": {
    "deletable": true,
    "editable": true
   },
   "source": [
    "## Install and load libraries\n",
    "This checks if the required libraries are installed, if not they are downloaded. If so, they are loaded."
   ]
  },
  {
   "cell_type": "code",
   "execution_count": 22,
   "metadata": {
    "collapsed": false,
    "deletable": true,
    "editable": true
   },
   "outputs": [],
   "source": [
    "packages <- c(\"censusapi\", \"dplyr\", \"tidyr\", \"stringr\")\n",
    "new_packages <- packages[!(packages %in% installed.packages()[,\"Package\"])]\n",
    "if(length(new_packages)) install.packages(new_packages)\n",
    "\n",
    "# the semicolon on the end of this line supresses warning messages\n",
    "invisible(lapply(packages, library, character.only = TRUE));"
   ]
  },
  {
   "cell_type": "markdown",
   "metadata": {
    "deletable": true,
    "editable": true
   },
   "source": [
    "## Load your Census API key and store it\n",
    "\n",
    "You'll need an API key from the Census Bureau. If you don't have one you can request one here https://api.census.gov/data/key_signup.html\n",
    "\n",
    "You'll want to [save that key as an environment variable](https://github.com/Quartz/how-we-make-things/blob/master/cookbook-examples/how-to-create-an-environment-variable.md) called `US_CENSUS_API_KEY`"
   ]
  },
  {
   "cell_type": "code",
   "execution_count": 3,
   "metadata": {
    "collapsed": true,
    "deletable": true,
    "editable": true
   },
   "outputs": [],
   "source": [
    "Sys.setenv(CENSUS_KEY=Sys.getenv(\"US_CENSUS_API_KEY\"))"
   ]
  },
  {
   "cell_type": "markdown",
   "metadata": {
    "deletable": true,
    "editable": true
   },
   "source": [
    "## Downloading the data"
   ]
  },
  {
   "cell_type": "markdown",
   "metadata": {
    "deletable": true,
    "editable": true
   },
   "source": [
    "### Specify the exact data you're after\n",
    "Consult the Census's documentation on which data_columns you want in the API docs https://www.census.gov/foreign-trade/reference/guides/Guide%20to%20International%20Trade%20Datasets.pdf (pgs 19-25)"
   ]
  },
  {
   "cell_type": "code",
   "execution_count": 33,
   "metadata": {
    "collapsed": false,
    "deletable": true,
    "editable": true
   },
   "outputs": [
    {
     "name": "stdout",
     "output_type": "stream",
     "text": [
      " [1] \"2018-01\" \"2018-02\" \"2018-03\" \"2018-04\" \"2018-05\" \"2018-06\" \"2018-07\"\n",
      " [8] \"2018-08\" \"2018-09\" \"2018-10\" \"2018-11\" \"2018-12\"\n"
     ]
    }
   ],
   "source": [
    "# Let's get monthly data for 2018\n",
    "years <- c(2018)\n",
    "months <- 1:12\n",
    "\n",
    "# save an empty list to hold our year_month strings\n",
    "year_months <- c()\n",
    "\n",
    "# loop through every year in the years list\n",
    "for (year in years) {\n",
    "    # loop through every month in the months list\n",
    "    for (month in months) {\n",
    "        # create a year_month string\n",
    "        year_month <- paste(year, str_pad(month,2, pad=\"0\"), sep=\"-\")\n",
    "        \n",
    "        # add the current year_month to the year_months array list\n",
    "        year_months <- c(year_months, year_month)\n",
    "    }\n",
    "}\n",
    "\n",
    "# print out the time periods were using\n",
    "print(year_months)\n",
    "\n",
    "# Important!: Some data columns require other data columns. \n",
    "# The requirements are listed in the API docs. eg. \"I_COMMODITY_LDESC\"\n",
    "# requires \"I_COMMODITY\"\n",
    "data_columns = c(\n",
    "    \"I_COMMODITY\",       # this is the HS code\n",
    "    \"I_COMMODITY_LDESC\", # the long description of the commodity\n",
    "    \"GEN_VAL_MO\"         # General Imports, Total Value\n",
    ")"
   ]
  },
  {
   "cell_type": "markdown",
   "metadata": {
    "deletable": true,
    "editable": true
   },
   "source": [
    "### Download 6-digit imports from anywhere"
   ]
  },
  {
   "cell_type": "code",
   "execution_count": 32,
   "metadata": {
    "collapsed": false,
    "deletable": true,
    "editable": true
   },
   "outputs": [
    {
     "name": "stdout",
     "output_type": "stream",
     "text": [
      "[1] \"Getting 2018-01 from the API\"\n",
      "[1] \"Getting 2018-02 from the API\"\n",
      "[1] \"Getting 2018-03 from the API\"\n",
      "[1] \"Getting 2018-04 from the API\"\n",
      "[1] \"Getting 2018-05 from the API\"\n",
      "[1] \"Getting 2018-06 from the API\"\n",
      "[1] \"Getting 2018-07 from the API\"\n",
      "[1] \"Getting 2018-08 from the API\"\n",
      "[1] \"Getting 2018-09 from the API\"\n",
      "[1] \"Getting 2018-10 from the API\"\n",
      "[1] \"Getting 2018-11 from the API\"\n",
      "[1] \"Getting 2018-12 from the API\"\n"
     ]
    },
    {
     "data": {
      "text/html": [
       "<table>\n",
       "<caption>A data.frame: 6 × 6</caption>\n",
       "<thead>\n",
       "\t<tr><th scope=col>time</th><th scope=col>I_COMMODITY</th><th scope=col>I_COMMODITY_LDESC</th><th scope=col>GEN_VAL_MO</th><th scope=col>COMM_LVL</th><th scope=col>SUMMARY_LVL2</th></tr>\n",
       "\t<tr><th scope=col>&lt;chr&gt;</th><th scope=col>&lt;chr&gt;</th><th scope=col>&lt;chr&gt;</th><th scope=col>&lt;chr&gt;</th><th scope=col>&lt;chr&gt;</th><th scope=col>&lt;chr&gt;</th></tr>\n",
       "</thead>\n",
       "<tbody>\n",
       "\t<tr><td>2018-01</td><td>010121</td><td>HORSES, LIVE, PUREBRED BREEDING            </td><td>8018067 </td><td>HS6</td><td>HS</td></tr>\n",
       "\t<tr><td>2018-01</td><td>010129</td><td>HORSES, LIVE, OTHER THAN PUREBRED BREEDING </td><td>58368217</td><td>HS6</td><td>HS</td></tr>\n",
       "\t<tr><td>2018-01</td><td>010221</td><td>CATTLE, LIVE, PUREBRED BREEDING            </td><td>132409  </td><td>HS6</td><td>HS</td></tr>\n",
       "\t<tr><td>2018-01</td><td>010229</td><td>CATTLE, LIVE, OTHER THAN PUREBRED BREEDING </td><td>97912906</td><td>HS6</td><td>HS</td></tr>\n",
       "\t<tr><td>2018-01</td><td>010231</td><td>BUFFALO, LIVE, PUREBRED BREEDING           </td><td>2399    </td><td>HS6</td><td>HS</td></tr>\n",
       "\t<tr><td>2018-01</td><td>010239</td><td>BUFFALO, LIVE, OTHER THAN PUREBRED BREEDING</td><td>4627131 </td><td>HS6</td><td>HS</td></tr>\n",
       "</tbody>\n",
       "</table>\n"
      ],
      "text/latex": [
       "A data.frame: 6 × 6\n",
       "\\begin{tabular}{r|llllll}\n",
       " time & I\\_COMMODITY & I\\_COMMODITY\\_LDESC & GEN\\_VAL\\_MO & COMM\\_LVL & SUMMARY\\_LVL2\\\\\n",
       " <chr> & <chr> & <chr> & <chr> & <chr> & <chr>\\\\\n",
       "\\hline\n",
       "\t 2018-01 & 010121 & HORSES, LIVE, PUREBRED BREEDING             & 8018067  & HS6 & HS\\\\\n",
       "\t 2018-01 & 010129 & HORSES, LIVE, OTHER THAN PUREBRED BREEDING  & 58368217 & HS6 & HS\\\\\n",
       "\t 2018-01 & 010221 & CATTLE, LIVE, PUREBRED BREEDING             & 132409   & HS6 & HS\\\\\n",
       "\t 2018-01 & 010229 & CATTLE, LIVE, OTHER THAN PUREBRED BREEDING  & 97912906 & HS6 & HS\\\\\n",
       "\t 2018-01 & 010231 & BUFFALO, LIVE, PUREBRED BREEDING            & 2399     & HS6 & HS\\\\\n",
       "\t 2018-01 & 010239 & BUFFALO, LIVE, OTHER THAN PUREBRED BREEDING & 4627131  & HS6 & HS\\\\\n",
       "\\end{tabular}\n"
      ],
      "text/markdown": [
       "\n",
       "A data.frame: 6 × 6\n",
       "\n",
       "| time &lt;chr&gt; | I_COMMODITY &lt;chr&gt; | I_COMMODITY_LDESC &lt;chr&gt; | GEN_VAL_MO &lt;chr&gt; | COMM_LVL &lt;chr&gt; | SUMMARY_LVL2 &lt;chr&gt; |\n",
       "|---|---|---|---|---|---|\n",
       "| 2018-01 | 010121 | HORSES, LIVE, PUREBRED BREEDING             | 8018067  | HS6 | HS |\n",
       "| 2018-01 | 010129 | HORSES, LIVE, OTHER THAN PUREBRED BREEDING  | 58368217 | HS6 | HS |\n",
       "| 2018-01 | 010221 | CATTLE, LIVE, PUREBRED BREEDING             | 132409   | HS6 | HS |\n",
       "| 2018-01 | 010229 | CATTLE, LIVE, OTHER THAN PUREBRED BREEDING  | 97912906 | HS6 | HS |\n",
       "| 2018-01 | 010231 | BUFFALO, LIVE, PUREBRED BREEDING            | 2399     | HS6 | HS |\n",
       "| 2018-01 | 010239 | BUFFALO, LIVE, OTHER THAN PUREBRED BREEDING | 4627131  | HS6 | HS |\n",
       "\n"
      ],
      "text/plain": [
       "  time    I_COMMODITY I_COMMODITY_LDESC                           GEN_VAL_MO\n",
       "1 2018-01 010121      HORSES, LIVE, PUREBRED BREEDING             8018067   \n",
       "2 2018-01 010129      HORSES, LIVE, OTHER THAN PUREBRED BREEDING  58368217  \n",
       "3 2018-01 010221      CATTLE, LIVE, PUREBRED BREEDING             132409    \n",
       "4 2018-01 010229      CATTLE, LIVE, OTHER THAN PUREBRED BREEDING  97912906  \n",
       "5 2018-01 010231      BUFFALO, LIVE, PUREBRED BREEDING            2399      \n",
       "6 2018-01 010239      BUFFALO, LIVE, OTHER THAN PUREBRED BREEDING 4627131   \n",
       "  COMM_LVL SUMMARY_LVL2\n",
       "1 HS6      HS          \n",
       "2 HS6      HS          \n",
       "3 HS6      HS          \n",
       "4 HS6      HS          \n",
       "5 HS6      HS          \n",
       "6 HS6      HS          "
      ]
     },
     "metadata": {},
     "output_type": "display_data"
    }
   ],
   "source": [
    "all_results <- c()\n",
    "for (t in year_months) {\n",
    "    \n",
    "    print(paste(\"Getting\", t, \"from the API\"))\n",
    "    flush.console() # this print immediately, not on loop completion\n",
    "    \n",
    "    results <- getCensus(name = \"timeseries/intltrade/imports/hs\",\n",
    "                     vars=data_columns,\n",
    "                     t=t,\n",
    "                     COMM_LVL=\"HS6\",\n",
    "                     SUMMARY_LVL2=\"HS\" # aggregate on HS code\n",
    "                     )\n",
    "    \n",
    "    if (length(all_results) == 0) {\n",
    "        # if the frame doesn't exist, create it\n",
    "        all_results <- results\n",
    "    }\n",
    "    else {\n",
    "        # if the frame exists, append to it\n",
    "        all_results <- bind_rows(all_results, results)\n",
    "        \n",
    "    }\n",
    "}\n",
    "\n",
    "head(all_results)"
   ]
  },
  {
   "cell_type": "markdown",
   "metadata": {
    "deletable": true,
    "editable": true
   },
   "source": [
    "### Download 6-digit exports to China and India\n",
    "Census country codes are listed here: https://www.census.gov/foreign-trade/schedules/c/country.txt\n",
    "\n",
    "Notice the different `name` in the `getCensus` call and the different `data_column` names"
   ]
  },
  {
   "cell_type": "code",
   "execution_count": 55,
   "metadata": {
    "collapsed": false,
    "deletable": true,
    "editable": true
   },
   "outputs": [
    {
     "name": "stdout",
     "output_type": "stream",
     "text": [
      "[1] \"Getting 5700’s 2018-01 from the API\"\n",
      "[1] \"Getting 5330’s 2018-01 from the API\"\n",
      "[1] \"Getting 5700’s 2018-02 from the API\"\n",
      "[1] \"Getting 5330’s 2018-02 from the API\"\n",
      "[1] \"Getting 5700’s 2018-03 from the API\"\n",
      "[1] \"Getting 5330’s 2018-03 from the API\"\n",
      "[1] \"Getting 5700’s 2018-04 from the API\"\n",
      "[1] \"Getting 5330’s 2018-04 from the API\"\n",
      "[1] \"Getting 5700’s 2018-05 from the API\"\n",
      "[1] \"Getting 5330’s 2018-05 from the API\"\n",
      "[1] \"Getting 5700’s 2018-06 from the API\"\n",
      "[1] \"Getting 5330’s 2018-06 from the API\"\n",
      "[1] \"Getting 5700’s 2018-07 from the API\"\n",
      "[1] \"Getting 5330’s 2018-07 from the API\"\n",
      "[1] \"Getting 5700’s 2018-08 from the API\"\n",
      "[1] \"Getting 5330’s 2018-08 from the API\"\n",
      "[1] \"Getting 5700’s 2018-09 from the API\"\n",
      "[1] \"Getting 5330’s 2018-09 from the API\"\n",
      "[1] \"Getting 5700’s 2018-10 from the API\"\n",
      "[1] \"Getting 5330’s 2018-10 from the API\"\n",
      "[1] \"Getting 5700’s 2018-11 from the API\"\n",
      "[1] \"Getting 5330’s 2018-11 from the API\"\n",
      "[1] \"Getting 5700’s 2018-12 from the API\"\n",
      "[1] \"Getting 5330’s 2018-12 from the API\"\n"
     ]
    },
    {
     "data": {
      "text/html": [
       "<table>\n",
       "<caption>A data.frame: 6 × 8</caption>\n",
       "<thead>\n",
       "\t<tr><th scope=col>time</th><th scope=col>E_COMMODITY</th><th scope=col>E_COMMODITY_LDESC</th><th scope=col>CTY_CODE</th><th scope=col>CTY_NAME</th><th scope=col>ALL_VAL_MO</th><th scope=col>COMM_LVL</th><th scope=col>CTY_CODE_1</th></tr>\n",
       "\t<tr><th scope=col>&lt;chr&gt;</th><th scope=col>&lt;chr&gt;</th><th scope=col>&lt;chr&gt;</th><th scope=col>&lt;chr&gt;</th><th scope=col>&lt;chr&gt;</th><th scope=col>&lt;chr&gt;</th><th scope=col>&lt;chr&gt;</th><th scope=col>&lt;dbl&gt;</th></tr>\n",
       "</thead>\n",
       "<tbody>\n",
       "\t<tr><td>2018-01</td><td>010221</td><td>CATTLE, LIVE, PUREBRED BREEDING                                                                 </td><td>5700</td><td>CHINA</td><td>9544  </td><td>HS6</td><td>5700</td></tr>\n",
       "\t<tr><td>2018-01</td><td>010410</td><td>SHEEP, LIVE                                                                                     </td><td>5700</td><td>CHINA</td><td>19230 </td><td>HS6</td><td>5700</td></tr>\n",
       "\t<tr><td>2018-01</td><td>010599</td><td>TURKEYS, DUCKS, GEESE AND GUINEA FOWLS, LIVE, WEIGHING MORE THAN 185 G (6.53 OZ.) EACH          </td><td>5700</td><td>CHINA</td><td>30222 </td><td>HS6</td><td>5700</td></tr>\n",
       "\t<tr><td>2018-01</td><td>010619</td><td>MAMMALS, LIVE, NESOI                                                                            </td><td>5700</td><td>CHINA</td><td>84064 </td><td>HS6</td><td>5700</td></tr>\n",
       "\t<tr><td>2018-01</td><td>020120</td><td>MEAT OF BOVINE ANIMALS, CUTS WITH BONE IN (OTHER THAN HALF OR WHOLE CARCASSES), FRESH OR CHILLED</td><td>5700</td><td>CHINA</td><td>140321</td><td>HS6</td><td>5700</td></tr>\n",
       "\t<tr><td>2018-01</td><td>020130</td><td>MEAT OF BOVINE ANIMALS, BONELESS, FRESH OR CHILLED                                              </td><td>5700</td><td>CHINA</td><td>555947</td><td>HS6</td><td>5700</td></tr>\n",
       "</tbody>\n",
       "</table>\n"
      ],
      "text/latex": [
       "A data.frame: 6 × 8\n",
       "\\begin{tabular}{r|llllllll}\n",
       " time & E\\_COMMODITY & E\\_COMMODITY\\_LDESC & CTY\\_CODE & CTY\\_NAME & ALL\\_VAL\\_MO & COMM\\_LVL & CTY\\_CODE\\_1\\\\\n",
       " <chr> & <chr> & <chr> & <chr> & <chr> & <chr> & <chr> & <dbl>\\\\\n",
       "\\hline\n",
       "\t 2018-01 & 010221 & CATTLE, LIVE, PUREBRED BREEDING                                                                  & 5700 & CHINA & 9544   & HS6 & 5700\\\\\n",
       "\t 2018-01 & 010410 & SHEEP, LIVE                                                                                      & 5700 & CHINA & 19230  & HS6 & 5700\\\\\n",
       "\t 2018-01 & 010599 & TURKEYS, DUCKS, GEESE AND GUINEA FOWLS, LIVE, WEIGHING MORE THAN 185 G (6.53 OZ.) EACH           & 5700 & CHINA & 30222  & HS6 & 5700\\\\\n",
       "\t 2018-01 & 010619 & MAMMALS, LIVE, NESOI                                                                             & 5700 & CHINA & 84064  & HS6 & 5700\\\\\n",
       "\t 2018-01 & 020120 & MEAT OF BOVINE ANIMALS, CUTS WITH BONE IN (OTHER THAN HALF OR WHOLE CARCASSES), FRESH OR CHILLED & 5700 & CHINA & 140321 & HS6 & 5700\\\\\n",
       "\t 2018-01 & 020130 & MEAT OF BOVINE ANIMALS, BONELESS, FRESH OR CHILLED                                               & 5700 & CHINA & 555947 & HS6 & 5700\\\\\n",
       "\\end{tabular}\n"
      ],
      "text/markdown": [
       "\n",
       "A data.frame: 6 × 8\n",
       "\n",
       "| time &lt;chr&gt; | E_COMMODITY &lt;chr&gt; | E_COMMODITY_LDESC &lt;chr&gt; | CTY_CODE &lt;chr&gt; | CTY_NAME &lt;chr&gt; | ALL_VAL_MO &lt;chr&gt; | COMM_LVL &lt;chr&gt; | CTY_CODE_1 &lt;dbl&gt; |\n",
       "|---|---|---|---|---|---|---|---|\n",
       "| 2018-01 | 010221 | CATTLE, LIVE, PUREBRED BREEDING                                                                  | 5700 | CHINA | 9544   | HS6 | 5700 |\n",
       "| 2018-01 | 010410 | SHEEP, LIVE                                                                                      | 5700 | CHINA | 19230  | HS6 | 5700 |\n",
       "| 2018-01 | 010599 | TURKEYS, DUCKS, GEESE AND GUINEA FOWLS, LIVE, WEIGHING MORE THAN 185 G (6.53 OZ.) EACH           | 5700 | CHINA | 30222  | HS6 | 5700 |\n",
       "| 2018-01 | 010619 | MAMMALS, LIVE, NESOI                                                                             | 5700 | CHINA | 84064  | HS6 | 5700 |\n",
       "| 2018-01 | 020120 | MEAT OF BOVINE ANIMALS, CUTS WITH BONE IN (OTHER THAN HALF OR WHOLE CARCASSES), FRESH OR CHILLED | 5700 | CHINA | 140321 | HS6 | 5700 |\n",
       "| 2018-01 | 020130 | MEAT OF BOVINE ANIMALS, BONELESS, FRESH OR CHILLED                                               | 5700 | CHINA | 555947 | HS6 | 5700 |\n",
       "\n"
      ],
      "text/plain": [
       "  time    E_COMMODITY\n",
       "1 2018-01 010221     \n",
       "2 2018-01 010410     \n",
       "3 2018-01 010599     \n",
       "4 2018-01 010619     \n",
       "5 2018-01 020120     \n",
       "6 2018-01 020130     \n",
       "  E_COMMODITY_LDESC                                                                               \n",
       "1 CATTLE, LIVE, PUREBRED BREEDING                                                                 \n",
       "2 SHEEP, LIVE                                                                                     \n",
       "3 TURKEYS, DUCKS, GEESE AND GUINEA FOWLS, LIVE, WEIGHING MORE THAN 185 G (6.53 OZ.) EACH          \n",
       "4 MAMMALS, LIVE, NESOI                                                                            \n",
       "5 MEAT OF BOVINE ANIMALS, CUTS WITH BONE IN (OTHER THAN HALF OR WHOLE CARCASSES), FRESH OR CHILLED\n",
       "6 MEAT OF BOVINE ANIMALS, BONELESS, FRESH OR CHILLED                                              \n",
       "  CTY_CODE CTY_NAME ALL_VAL_MO COMM_LVL CTY_CODE_1\n",
       "1 5700     CHINA    9544       HS6      5700      \n",
       "2 5700     CHINA    19230      HS6      5700      \n",
       "3 5700     CHINA    30222      HS6      5700      \n",
       "4 5700     CHINA    84064      HS6      5700      \n",
       "5 5700     CHINA    140321     HS6      5700      \n",
       "6 5700     CHINA    555947     HS6      5700      "
      ]
     },
     "metadata": {},
     "output_type": "display_data"
    }
   ],
   "source": [
    "data_columns_for_exports = c(\n",
    "    \"E_COMMODITY\",       # this is the HS code\n",
    "    \"E_COMMODITY_LDESC\", # the long description of the commodity\n",
    "    \"CTY_CODE\",          # country code\n",
    "    \"CTY_NAME\",          # country name\n",
    "    \"ALL_VAL_MO\"         # Total Value\n",
    ")\n",
    "\n",
    "country_codes = c(\n",
    "    \"5700\", # China\n",
    "    \"5330\"  # India\n",
    ")\n",
    "\n",
    "all_results <- c()\n",
    "for (t in year_months) {\n",
    "    for (c in country_codes) {\n",
    "        print(paste(\"Getting\", paste0(c, \"’s\"), t, \"from the API\"))\n",
    "        flush.console() # this print immediately, not on loop completion\n",
    "    \n",
    "        results <- getCensus(name = \"timeseries/intltrade/exports/hs\",\n",
    "                         vars=data_columns_for_exports,\n",
    "                         t=t,\n",
    "                         COMM_LVL=\"HS6\",\n",
    "                         CTY_CODE=c\n",
    "                         )\n",
    "\n",
    "        if (length(all_results) == 0) {\n",
    "            # if the frame doesn't exist, create it\n",
    "            all_results <- results\n",
    "        }\n",
    "        else {\n",
    "            # if the frame exists, append to it\n",
    "            all_results <- bind_rows(all_results, results)\n",
    "\n",
    "        }\n",
    "        \n",
    "    }\n",
    "}\n",
    "\n",
    "head(all_results)"
   ]
  },
  {
   "cell_type": "markdown",
   "metadata": {
    "deletable": true,
    "editable": true
   },
   "source": [
    "### Download imports of Women's elastic knit trousers and Women's blue jeans since 2013"
   ]
  },
  {
   "cell_type": "code",
   "execution_count": 52,
   "metadata": {
    "collapsed": false
   },
   "outputs": [
    {
     "data": {
      "text/html": [
       "<table>\n",
       "<caption>A data.frame: 6 × 5</caption>\n",
       "<thead>\n",
       "\t<tr><th scope=col>time</th><th scope=col>I_COMMODITY</th><th scope=col>GEN_QY1_MO</th><th scope=col>I_COMMODITY_1</th><th scope=col>SUMMARY_LVL2</th></tr>\n",
       "\t<tr><th scope=col>&lt;chr&gt;</th><th scope=col>&lt;chr&gt;</th><th scope=col>&lt;dbl&gt;</th><th scope=col>&lt;dbl&gt;</th><th scope=col>&lt;chr&gt;</th></tr>\n",
       "</thead>\n",
       "<tbody>\n",
       "\t<tr><td>2013-01</td><td>6104632006</td><td> 536464</td><td>6104632006</td><td>HS</td></tr>\n",
       "\t<tr><td>2013-01</td><td>6204624011</td><td>1352649</td><td>6204624011</td><td>HS</td></tr>\n",
       "\t<tr><td>2013-02</td><td>6104632006</td><td> 464316</td><td>6104632006</td><td>HS</td></tr>\n",
       "\t<tr><td>2013-02</td><td>6204624011</td><td>1121734</td><td>6204624011</td><td>HS</td></tr>\n",
       "\t<tr><td>2013-03</td><td>6104632006</td><td> 362278</td><td>6104632006</td><td>HS</td></tr>\n",
       "\t<tr><td>2013-03</td><td>6204624011</td><td> 791531</td><td>6204624011</td><td>HS</td></tr>\n",
       "</tbody>\n",
       "</table>\n"
      ],
      "text/latex": [
       "A data.frame: 6 × 5\n",
       "\\begin{tabular}{r|lllll}\n",
       " time & I\\_COMMODITY & GEN\\_QY1\\_MO & I\\_COMMODITY\\_1 & SUMMARY\\_LVL2\\\\\n",
       " <chr> & <chr> & <dbl> & <dbl> & <chr>\\\\\n",
       "\\hline\n",
       "\t 2013-01 & 6104632006 &  536464 & 6104632006 & HS\\\\\n",
       "\t 2013-01 & 6204624011 & 1352649 & 6204624011 & HS\\\\\n",
       "\t 2013-02 & 6104632006 &  464316 & 6104632006 & HS\\\\\n",
       "\t 2013-02 & 6204624011 & 1121734 & 6204624011 & HS\\\\\n",
       "\t 2013-03 & 6104632006 &  362278 & 6104632006 & HS\\\\\n",
       "\t 2013-03 & 6204624011 &  791531 & 6204624011 & HS\\\\\n",
       "\\end{tabular}\n"
      ],
      "text/markdown": [
       "\n",
       "A data.frame: 6 × 5\n",
       "\n",
       "| time &lt;chr&gt; | I_COMMODITY &lt;chr&gt; | GEN_QY1_MO &lt;dbl&gt; | I_COMMODITY_1 &lt;dbl&gt; | SUMMARY_LVL2 &lt;chr&gt; |\n",
       "|---|---|---|---|---|\n",
       "| 2013-01 | 6104632006 |  536464 | 6104632006 | HS |\n",
       "| 2013-01 | 6204624011 | 1352649 | 6204624011 | HS |\n",
       "| 2013-02 | 6104632006 |  464316 | 6104632006 | HS |\n",
       "| 2013-02 | 6204624011 | 1121734 | 6204624011 | HS |\n",
       "| 2013-03 | 6104632006 |  362278 | 6104632006 | HS |\n",
       "| 2013-03 | 6204624011 |  791531 | 6204624011 | HS |\n",
       "\n"
      ],
      "text/plain": [
       "  time    I_COMMODITY GEN_QY1_MO I_COMMODITY_1 SUMMARY_LVL2\n",
       "1 2013-01 6104632006   536464    6104632006    HS          \n",
       "2 2013-01 6204624011  1352649    6204624011    HS          \n",
       "3 2013-02 6104632006   464316    6104632006    HS          \n",
       "4 2013-02 6204624011  1121734    6204624011    HS          \n",
       "5 2013-03 6104632006   362278    6104632006    HS          \n",
       "6 2013-03 6204624011   791531    6204624011    HS          "
      ]
     },
     "metadata": {},
     "output_type": "display_data"
    }
   ],
   "source": [
    "data_colums_by_quantity = c(\n",
    "    \"I_COMMODITY\",       # this is the HS code\n",
    "    \"GEN_QY1_MO\"         # General Imports, Total Value\n",
    ")\n",
    "\n",
    "results <- getCensus(name = \"timeseries/intltrade/imports/hs\",\n",
    "                     vars=data_colums_by_quantity,\n",
    "                     I_COMMODITY=\"6204624010\", # jeans\n",
    "                     I_COMMODITY=\"6204621511\", # jeans\n",
    "                     I_COMMODITY=\"6204624011\", # jeans\n",
    "                     I_COMMODITY=\"6204628011\", # jeans\n",
    "                     I_COMMODITY=\"6104632006\", # yoga pants\n",
    "                     time=\"from 2013-01\",      # this is another way to get multiple months\n",
    "                     SUMMARY_LVL2=\"HS\")\n",
    "\n",
    "head(results)"
   ]
  },
  {
   "cell_type": "markdown",
   "metadata": {},
   "source": [
    "#### Reformat the data\n",
    "As you can see, this data is in a long format, it also has multiple identifiers for blue jeans because the code has changed over time. Here's how to take care of that"
   ]
  },
  {
   "cell_type": "code",
   "execution_count": 53,
   "metadata": {
    "collapsed": false,
    "scrolled": false
   },
   "outputs": [
    {
     "data": {
      "text/html": [
       "<table>\n",
       "<caption>A rowwise_df: 79 × 3</caption>\n",
       "<thead>\n",
       "\t<tr><th scope=col>time</th><th scope=col>elastic_knits_doz</th><th scope=col>all_denim_doz</th></tr>\n",
       "\t<tr><th scope=col>&lt;chr&gt;</th><th scope=col>&lt;dbl&gt;</th><th scope=col>&lt;dbl&gt;</th></tr>\n",
       "</thead>\n",
       "<tbody>\n",
       "\t<tr><td>2013-01-01</td><td>536464</td><td>1352649</td></tr>\n",
       "\t<tr><td>2013-02-01</td><td>464316</td><td>1121734</td></tr>\n",
       "\t<tr><td>2013-03-01</td><td>362278</td><td> 791531</td></tr>\n",
       "\t<tr><td>2013-04-01</td><td>405148</td><td> 904684</td></tr>\n",
       "\t<tr><td>2013-05-01</td><td>434905</td><td>1221976</td></tr>\n",
       "\t<tr><td>2013-06-01</td><td>529142</td><td>1663770</td></tr>\n",
       "\t<tr><td>2013-07-01</td><td>761196</td><td>2488386</td></tr>\n",
       "\t<tr><td>2013-08-01</td><td>780402</td><td>1836866</td></tr>\n",
       "\t<tr><td>2013-09-01</td><td>779895</td><td>1406771</td></tr>\n",
       "\t<tr><td>2013-10-01</td><td>756427</td><td>1678976</td></tr>\n",
       "\t<tr><td>2013-11-01</td><td>734691</td><td>1558774</td></tr>\n",
       "\t<tr><td>2013-12-01</td><td>750978</td><td>1272305</td></tr>\n",
       "\t<tr><td>2014-01-01</td><td>652983</td><td>1333260</td></tr>\n",
       "\t<tr><td>2014-02-01</td><td>573470</td><td> 994126</td></tr>\n",
       "\t<tr><td>2014-03-01</td><td>605805</td><td> 795092</td></tr>\n",
       "\t<tr><td>2014-04-01</td><td>440308</td><td> 859760</td></tr>\n",
       "\t<tr><td>2014-05-01</td><td>528430</td><td>1067084</td></tr>\n",
       "\t<tr><td>2014-06-01</td><td>719203</td><td>1694280</td></tr>\n",
       "\t<tr><td>2014-07-01</td><td>840248</td><td>1853192</td></tr>\n",
       "\t<tr><td>2014-08-01</td><td>887437</td><td>1517016</td></tr>\n",
       "\t<tr><td>2014-09-01</td><td>954482</td><td>1147950</td></tr>\n",
       "\t<tr><td>2014-10-01</td><td>977446</td><td>1495919</td></tr>\n",
       "\t<tr><td>2014-11-01</td><td>842208</td><td>1280892</td></tr>\n",
       "\t<tr><td>2014-12-01</td><td>907727</td><td>1219285</td></tr>\n",
       "\t<tr><td>2015-01-01</td><td>772960</td><td>1191092</td></tr>\n",
       "\t<tr><td>2015-02-01</td><td>817663</td><td>1016660</td></tr>\n",
       "\t<tr><td>2015-03-01</td><td>902464</td><td> 926813</td></tr>\n",
       "\t<tr><td>2015-04-01</td><td>650759</td><td> 752354</td></tr>\n",
       "\t<tr><td>2015-05-01</td><td>565809</td><td>1037187</td></tr>\n",
       "\t<tr><td>2015-06-01</td><td>954125</td><td>1916670</td></tr>\n",
       "\t<tr><td>⋮</td><td>⋮</td><td>⋮</td></tr>\n",
       "\t<tr><td>2017-02-01</td><td>1457433</td><td>1061085</td></tr>\n",
       "\t<tr><td>2017-03-01</td><td> 972493</td><td> 832144</td></tr>\n",
       "\t<tr><td>2017-04-01</td><td> 923496</td><td> 781579</td></tr>\n",
       "\t<tr><td>2017-05-01</td><td>1183764</td><td> 976064</td></tr>\n",
       "\t<tr><td>2017-06-01</td><td>1311325</td><td>1782662</td></tr>\n",
       "\t<tr><td>2017-07-01</td><td>1580648</td><td>1770040</td></tr>\n",
       "\t<tr><td>2017-08-01</td><td>1741825</td><td>1515730</td></tr>\n",
       "\t<tr><td>2017-09-01</td><td>1605642</td><td>1233360</td></tr>\n",
       "\t<tr><td>2017-10-01</td><td>1633682</td><td>1397904</td></tr>\n",
       "\t<tr><td>2017-11-01</td><td>1478788</td><td>1343676</td></tr>\n",
       "\t<tr><td>2017-12-01</td><td>1096381</td><td>1032956</td></tr>\n",
       "\t<tr><td>2018-01-01</td><td>1244081</td><td>1413314</td></tr>\n",
       "\t<tr><td>2018-02-01</td><td> 976511</td><td>1118477</td></tr>\n",
       "\t<tr><td>2018-03-01</td><td> 815193</td><td> 872149</td></tr>\n",
       "\t<tr><td>2018-04-01</td><td> 748101</td><td> 951536</td></tr>\n",
       "\t<tr><td>2018-05-01</td><td> 980692</td><td>1176837</td></tr>\n",
       "\t<tr><td>2018-06-01</td><td>1115758</td><td>1691671</td></tr>\n",
       "\t<tr><td>2018-07-01</td><td>1463691</td><td>1875293</td></tr>\n",
       "\t<tr><td>2018-08-01</td><td>1636329</td><td>1405988</td></tr>\n",
       "\t<tr><td>2018-09-01</td><td>1593657</td><td>1429099</td></tr>\n",
       "\t<tr><td>2018-10-01</td><td>1800481</td><td>1620682</td></tr>\n",
       "\t<tr><td>2018-11-01</td><td>1397637</td><td>1370198</td></tr>\n",
       "\t<tr><td>2018-12-01</td><td>1115509</td><td>1121223</td></tr>\n",
       "\t<tr><td>2019-01-01</td><td>1457587</td><td>1391241</td></tr>\n",
       "\t<tr><td>2019-02-01</td><td>1179512</td><td>1181550</td></tr>\n",
       "\t<tr><td>2019-03-01</td><td> 716547</td><td> 871428</td></tr>\n",
       "\t<tr><td>2019-04-01</td><td> 838616</td><td>1024571</td></tr>\n",
       "\t<tr><td>2019-05-01</td><td>1097916</td><td>1284785</td></tr>\n",
       "\t<tr><td>2019-06-01</td><td>1039799</td><td>1479400</td></tr>\n",
       "\t<tr><td>2019-07-01</td><td>1583209</td><td>1705092</td></tr>\n",
       "</tbody>\n",
       "</table>\n"
      ],
      "text/latex": [
       "A rowwise_df: 79 × 3\n",
       "\\begin{tabular}{r|lll}\n",
       " time & elastic\\_knits\\_doz & all\\_denim\\_doz\\\\\n",
       " <chr> & <dbl> & <dbl>\\\\\n",
       "\\hline\n",
       "\t 2013-01-01 & 536464 & 1352649\\\\\n",
       "\t 2013-02-01 & 464316 & 1121734\\\\\n",
       "\t 2013-03-01 & 362278 &  791531\\\\\n",
       "\t 2013-04-01 & 405148 &  904684\\\\\n",
       "\t 2013-05-01 & 434905 & 1221976\\\\\n",
       "\t 2013-06-01 & 529142 & 1663770\\\\\n",
       "\t 2013-07-01 & 761196 & 2488386\\\\\n",
       "\t 2013-08-01 & 780402 & 1836866\\\\\n",
       "\t 2013-09-01 & 779895 & 1406771\\\\\n",
       "\t 2013-10-01 & 756427 & 1678976\\\\\n",
       "\t 2013-11-01 & 734691 & 1558774\\\\\n",
       "\t 2013-12-01 & 750978 & 1272305\\\\\n",
       "\t 2014-01-01 & 652983 & 1333260\\\\\n",
       "\t 2014-02-01 & 573470 &  994126\\\\\n",
       "\t 2014-03-01 & 605805 &  795092\\\\\n",
       "\t 2014-04-01 & 440308 &  859760\\\\\n",
       "\t 2014-05-01 & 528430 & 1067084\\\\\n",
       "\t 2014-06-01 & 719203 & 1694280\\\\\n",
       "\t 2014-07-01 & 840248 & 1853192\\\\\n",
       "\t 2014-08-01 & 887437 & 1517016\\\\\n",
       "\t 2014-09-01 & 954482 & 1147950\\\\\n",
       "\t 2014-10-01 & 977446 & 1495919\\\\\n",
       "\t 2014-11-01 & 842208 & 1280892\\\\\n",
       "\t 2014-12-01 & 907727 & 1219285\\\\\n",
       "\t 2015-01-01 & 772960 & 1191092\\\\\n",
       "\t 2015-02-01 & 817663 & 1016660\\\\\n",
       "\t 2015-03-01 & 902464 &  926813\\\\\n",
       "\t 2015-04-01 & 650759 &  752354\\\\\n",
       "\t 2015-05-01 & 565809 & 1037187\\\\\n",
       "\t 2015-06-01 & 954125 & 1916670\\\\\n",
       "\t ⋮ & ⋮ & ⋮\\\\\n",
       "\t 2017-02-01 & 1457433 & 1061085\\\\\n",
       "\t 2017-03-01 &  972493 &  832144\\\\\n",
       "\t 2017-04-01 &  923496 &  781579\\\\\n",
       "\t 2017-05-01 & 1183764 &  976064\\\\\n",
       "\t 2017-06-01 & 1311325 & 1782662\\\\\n",
       "\t 2017-07-01 & 1580648 & 1770040\\\\\n",
       "\t 2017-08-01 & 1741825 & 1515730\\\\\n",
       "\t 2017-09-01 & 1605642 & 1233360\\\\\n",
       "\t 2017-10-01 & 1633682 & 1397904\\\\\n",
       "\t 2017-11-01 & 1478788 & 1343676\\\\\n",
       "\t 2017-12-01 & 1096381 & 1032956\\\\\n",
       "\t 2018-01-01 & 1244081 & 1413314\\\\\n",
       "\t 2018-02-01 &  976511 & 1118477\\\\\n",
       "\t 2018-03-01 &  815193 &  872149\\\\\n",
       "\t 2018-04-01 &  748101 &  951536\\\\\n",
       "\t 2018-05-01 &  980692 & 1176837\\\\\n",
       "\t 2018-06-01 & 1115758 & 1691671\\\\\n",
       "\t 2018-07-01 & 1463691 & 1875293\\\\\n",
       "\t 2018-08-01 & 1636329 & 1405988\\\\\n",
       "\t 2018-09-01 & 1593657 & 1429099\\\\\n",
       "\t 2018-10-01 & 1800481 & 1620682\\\\\n",
       "\t 2018-11-01 & 1397637 & 1370198\\\\\n",
       "\t 2018-12-01 & 1115509 & 1121223\\\\\n",
       "\t 2019-01-01 & 1457587 & 1391241\\\\\n",
       "\t 2019-02-01 & 1179512 & 1181550\\\\\n",
       "\t 2019-03-01 &  716547 &  871428\\\\\n",
       "\t 2019-04-01 &  838616 & 1024571\\\\\n",
       "\t 2019-05-01 & 1097916 & 1284785\\\\\n",
       "\t 2019-06-01 & 1039799 & 1479400\\\\\n",
       "\t 2019-07-01 & 1583209 & 1705092\\\\\n",
       "\\end{tabular}\n"
      ],
      "text/markdown": [
       "\n",
       "A rowwise_df: 79 × 3\n",
       "\n",
       "| time &lt;chr&gt; | elastic_knits_doz &lt;dbl&gt; | all_denim_doz &lt;dbl&gt; |\n",
       "|---|---|---|\n",
       "| 2013-01-01 | 536464 | 1352649 |\n",
       "| 2013-02-01 | 464316 | 1121734 |\n",
       "| 2013-03-01 | 362278 |  791531 |\n",
       "| 2013-04-01 | 405148 |  904684 |\n",
       "| 2013-05-01 | 434905 | 1221976 |\n",
       "| 2013-06-01 | 529142 | 1663770 |\n",
       "| 2013-07-01 | 761196 | 2488386 |\n",
       "| 2013-08-01 | 780402 | 1836866 |\n",
       "| 2013-09-01 | 779895 | 1406771 |\n",
       "| 2013-10-01 | 756427 | 1678976 |\n",
       "| 2013-11-01 | 734691 | 1558774 |\n",
       "| 2013-12-01 | 750978 | 1272305 |\n",
       "| 2014-01-01 | 652983 | 1333260 |\n",
       "| 2014-02-01 | 573470 |  994126 |\n",
       "| 2014-03-01 | 605805 |  795092 |\n",
       "| 2014-04-01 | 440308 |  859760 |\n",
       "| 2014-05-01 | 528430 | 1067084 |\n",
       "| 2014-06-01 | 719203 | 1694280 |\n",
       "| 2014-07-01 | 840248 | 1853192 |\n",
       "| 2014-08-01 | 887437 | 1517016 |\n",
       "| 2014-09-01 | 954482 | 1147950 |\n",
       "| 2014-10-01 | 977446 | 1495919 |\n",
       "| 2014-11-01 | 842208 | 1280892 |\n",
       "| 2014-12-01 | 907727 | 1219285 |\n",
       "| 2015-01-01 | 772960 | 1191092 |\n",
       "| 2015-02-01 | 817663 | 1016660 |\n",
       "| 2015-03-01 | 902464 |  926813 |\n",
       "| 2015-04-01 | 650759 |  752354 |\n",
       "| 2015-05-01 | 565809 | 1037187 |\n",
       "| 2015-06-01 | 954125 | 1916670 |\n",
       "| ⋮ | ⋮ | ⋮ |\n",
       "| 2017-02-01 | 1457433 | 1061085 |\n",
       "| 2017-03-01 |  972493 |  832144 |\n",
       "| 2017-04-01 |  923496 |  781579 |\n",
       "| 2017-05-01 | 1183764 |  976064 |\n",
       "| 2017-06-01 | 1311325 | 1782662 |\n",
       "| 2017-07-01 | 1580648 | 1770040 |\n",
       "| 2017-08-01 | 1741825 | 1515730 |\n",
       "| 2017-09-01 | 1605642 | 1233360 |\n",
       "| 2017-10-01 | 1633682 | 1397904 |\n",
       "| 2017-11-01 | 1478788 | 1343676 |\n",
       "| 2017-12-01 | 1096381 | 1032956 |\n",
       "| 2018-01-01 | 1244081 | 1413314 |\n",
       "| 2018-02-01 |  976511 | 1118477 |\n",
       "| 2018-03-01 |  815193 |  872149 |\n",
       "| 2018-04-01 |  748101 |  951536 |\n",
       "| 2018-05-01 |  980692 | 1176837 |\n",
       "| 2018-06-01 | 1115758 | 1691671 |\n",
       "| 2018-07-01 | 1463691 | 1875293 |\n",
       "| 2018-08-01 | 1636329 | 1405988 |\n",
       "| 2018-09-01 | 1593657 | 1429099 |\n",
       "| 2018-10-01 | 1800481 | 1620682 |\n",
       "| 2018-11-01 | 1397637 | 1370198 |\n",
       "| 2018-12-01 | 1115509 | 1121223 |\n",
       "| 2019-01-01 | 1457587 | 1391241 |\n",
       "| 2019-02-01 | 1179512 | 1181550 |\n",
       "| 2019-03-01 |  716547 |  871428 |\n",
       "| 2019-04-01 |  838616 | 1024571 |\n",
       "| 2019-05-01 | 1097916 | 1284785 |\n",
       "| 2019-06-01 | 1039799 | 1479400 |\n",
       "| 2019-07-01 | 1583209 | 1705092 |\n",
       "\n"
      ],
      "text/plain": [
       "   time       elastic_knits_doz all_denim_doz\n",
       "1  2013-01-01 536464            1352649      \n",
       "2  2013-02-01 464316            1121734      \n",
       "3  2013-03-01 362278             791531      \n",
       "4  2013-04-01 405148             904684      \n",
       "5  2013-05-01 434905            1221976      \n",
       "6  2013-06-01 529142            1663770      \n",
       "7  2013-07-01 761196            2488386      \n",
       "8  2013-08-01 780402            1836866      \n",
       "9  2013-09-01 779895            1406771      \n",
       "10 2013-10-01 756427            1678976      \n",
       "11 2013-11-01 734691            1558774      \n",
       "12 2013-12-01 750978            1272305      \n",
       "13 2014-01-01 652983            1333260      \n",
       "14 2014-02-01 573470             994126      \n",
       "15 2014-03-01 605805             795092      \n",
       "16 2014-04-01 440308             859760      \n",
       "17 2014-05-01 528430            1067084      \n",
       "18 2014-06-01 719203            1694280      \n",
       "19 2014-07-01 840248            1853192      \n",
       "20 2014-08-01 887437            1517016      \n",
       "21 2014-09-01 954482            1147950      \n",
       "22 2014-10-01 977446            1495919      \n",
       "23 2014-11-01 842208            1280892      \n",
       "24 2014-12-01 907727            1219285      \n",
       "25 2015-01-01 772960            1191092      \n",
       "26 2015-02-01 817663            1016660      \n",
       "27 2015-03-01 902464             926813      \n",
       "28 2015-04-01 650759             752354      \n",
       "29 2015-05-01 565809            1037187      \n",
       "30 2015-06-01 954125            1916670      \n",
       "⋮  ⋮          ⋮                 ⋮            \n",
       "50 2017-02-01 1457433           1061085      \n",
       "51 2017-03-01  972493            832144      \n",
       "52 2017-04-01  923496            781579      \n",
       "53 2017-05-01 1183764            976064      \n",
       "54 2017-06-01 1311325           1782662      \n",
       "55 2017-07-01 1580648           1770040      \n",
       "56 2017-08-01 1741825           1515730      \n",
       "57 2017-09-01 1605642           1233360      \n",
       "58 2017-10-01 1633682           1397904      \n",
       "59 2017-11-01 1478788           1343676      \n",
       "60 2017-12-01 1096381           1032956      \n",
       "61 2018-01-01 1244081           1413314      \n",
       "62 2018-02-01  976511           1118477      \n",
       "63 2018-03-01  815193            872149      \n",
       "64 2018-04-01  748101            951536      \n",
       "65 2018-05-01  980692           1176837      \n",
       "66 2018-06-01 1115758           1691671      \n",
       "67 2018-07-01 1463691           1875293      \n",
       "68 2018-08-01 1636329           1405988      \n",
       "69 2018-09-01 1593657           1429099      \n",
       "70 2018-10-01 1800481           1620682      \n",
       "71 2018-11-01 1397637           1370198      \n",
       "72 2018-12-01 1115509           1121223      \n",
       "73 2019-01-01 1457587           1391241      \n",
       "74 2019-02-01 1179512           1181550      \n",
       "75 2019-03-01  716547            871428      \n",
       "76 2019-04-01  838616           1024571      \n",
       "77 2019-05-01 1097916           1284785      \n",
       "78 2019-06-01 1039799           1479400      \n",
       "79 2019-07-01 1583209           1705092      "
      ]
     },
     "metadata": {},
     "output_type": "display_data"
    }
   ],
   "source": [
    "results %>% \n",
    "    # select certain columns\n",
    "    select(\"time\", \"I_COMMODITY\", \"GEN_QY1_MO\") %>%\n",
    "    \n",
    "    # pivot the table\n",
    "    spread(\"I_COMMODITY\", \"GEN_QY1_MO\") %>%          \n",
    "    \n",
    "    # add `HS` to the column names (skipping the first)\n",
    "    rename_at(vars(-(0:1)), ~ paste0(\"HS\", .)) %>%  \n",
    "\n",
    "    # replace NAs with 0\n",
    "    mutate_all(~replace(., is.na(.), 0)) %>%        \n",
    "    \n",
    "    # sum the three denim codes into a single column\n",
    "    rowwise() %>%\n",
    "        mutate(                                     \n",
    "            all_denim_doz = sum(HS6204621511, HS6204624011, HS6204628011, na.rm = TRUE)\n",
    "        ) %>%\n",
    "\n",
    "    # rename the elastics knits HS code\n",
    "    rename(elastic_knits_doz = HS6104632006) %>%  \n",
    "\n",
    "    # select only the renamed and time columns\n",
    "    select(\"time\", \"elastic_knits_doz\", \"all_denim_doz\") %>%\n",
    "\n",
    "    # add the first of the month to the date\n",
    "    mutate(time = paste0(time,\"-01\"))               "
   ]
  },
  {
   "cell_type": "code",
   "execution_count": null,
   "metadata": {
    "collapsed": true
   },
   "outputs": [],
   "source": []
  }
 ],
 "metadata": {
  "kernelspec": {
   "display_name": "R",
   "language": "R",
   "name": "ir"
  },
  "language_info": {
   "codemirror_mode": "r",
   "file_extension": ".r",
   "mimetype": "text/x-r-source",
   "name": "R",
   "pygments_lexer": "r",
   "version": "3.6.1"
  }
 },
 "nbformat": 4,
 "nbformat_minor": 2
}
