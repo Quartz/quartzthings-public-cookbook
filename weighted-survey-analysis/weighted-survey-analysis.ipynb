{
 "cells": [
  {
   "cell_type": "markdown",
   "metadata": {},
   "source": [
    "# Weighted Survey Analysis\n",
    "\n",
    "We are going to analyze American Community Survey microdata from 2017\n",
    "\n",
    "You can learn more about that data here: https://www.census.gov/programs-surveys/acs/data/pums.html\n",
    "\n",
    "This data is survey weighted, meaning that not every person should count equally. \n",
    "\n",
    "We will: \n",
    "* Examine a couple ways to correctly analyze survey data. \n",
    "* Use this data to find the average and median age of Americans in 2017.\n",
    "* Find the confidence we can have in that estimate, given that it is based on a survey and not the whole population"
   ]
  },
  {
   "cell_type": "markdown",
   "metadata": {},
   "source": [
    "## Load libraries needed for analysis\n",
    "\n",
    "Tidverse is generally useful for data manipulation\n",
    "\n",
    "srvyr is a package for weighted survey analysis\n",
    "\n",
    "There is a good vignette on how to use it here https://github.com/gergness/srvyr\n"
   ]
  },
  {
   "cell_type": "code",
   "execution_count": 3,
   "metadata": {},
   "outputs": [
    {
     "name": "stderr",
     "output_type": "stream",
     "text": [
      "Installing package into ‘/usr/local/lib/R/3.6/site-library’\n",
      "(as ‘lib’ is unspecified)\n",
      "also installing the dependencies ‘minqa’, ‘numDeriv’, ‘mitools’, ‘survey’\n",
      "\n",
      "\n",
      "Attaching package: ‘srvyr’\n",
      "\n",
      "The following object is masked from ‘package:stats’:\n",
      "\n",
      "    filter\n",
      "\n"
     ]
    }
   ],
   "source": [
    "packages <- c(\"tidyverse\", \"srvyr\")\n",
    "new_packages <- packages[!(packages %in% installed.packages()[,\"Package\"])]\n",
    "if(length(new_packages)) install.packages(new_packages)\n",
    "\n",
    "# the semicolon on the end of this line supresses warning messages\n",
    "invisible(lapply(packages, library, character.only = TRUE));"
   ]
  },
  {
   "cell_type": "markdown",
   "metadata": {},
   "source": [
    "### Read in the survey data"
   ]
  },
  {
   "cell_type": "code",
   "execution_count": 2,
   "metadata": {},
   "outputs": [
    {
     "name": "stderr",
     "output_type": "stream",
     "text": [
      "Warning message in readChar(con, 5L, useBytes = TRUE):\n",
      "“cannot open compressed file 'ACS_AgeData_2017.Rdata', probable reason 'No such file or directory'”"
     ]
    },
    {
     "ename": "ERROR",
     "evalue": "Error in readChar(con, 5L, useBytes = TRUE): cannot open the connection\n",
     "output_type": "error",
     "traceback": [
      "Error in readChar(con, 5L, useBytes = TRUE): cannot open the connection\nTraceback:\n",
      "1. load(\"ACS_AgeData_2017.Rdata\")",
      "2. readChar(con, 5L, useBytes = TRUE)"
     ]
    }
   ],
   "source": [
    "load(\"ACS_AgeData_2017.Rdata\")"
   ]
  },
  {
   "cell_type": "markdown",
   "metadata": {},
   "source": [
    "## Check how the data looks\n",
    "\n",
    "It has about 3.2 million rows, which is a 1% sample of the US\n",
    "\n",
    "* `perwt` is the variable that the survey data need to be weighted by to make it accurate\n",
    "* `age` is the age of every person"
   ]
  },
  {
   "cell_type": "code",
   "execution_count": 8,
   "metadata": {},
   "outputs": [
    {
     "data": {
      "text/html": [
       "<table>\n",
       "<caption>A tibble: 6 × 2</caption>\n",
       "<thead>\n",
       "\t<tr><th scope=col>age</th><th scope=col>perwt</th></tr>\n",
       "\t<tr><th scope=col>&lt;dbl&gt;</th><th scope=col>&lt;int&gt;</th></tr>\n",
       "</thead>\n",
       "<tbody>\n",
       "\t<tr><td>73</td><td>206</td></tr>\n",
       "\t<tr><td>31</td><td> 45</td></tr>\n",
       "\t<tr><td>41</td><td>136</td></tr>\n",
       "\t<tr><td>48</td><td>121</td></tr>\n",
       "\t<tr><td>16</td><td>111</td></tr>\n",
       "\t<tr><td>37</td><td> 18</td></tr>\n",
       "</tbody>\n",
       "</table>\n"
      ],
      "text/latex": [
       "A tibble: 6 × 2\n",
       "\\begin{tabular}{r|ll}\n",
       " age & perwt\\\\\n",
       " <dbl> & <int>\\\\\n",
       "\\hline\n",
       "\t 73 & 206\\\\\n",
       "\t 31 &  45\\\\\n",
       "\t 41 & 136\\\\\n",
       "\t 48 & 121\\\\\n",
       "\t 16 & 111\\\\\n",
       "\t 37 &  18\\\\\n",
       "\\end{tabular}\n"
      ],
      "text/markdown": [
       "\n",
       "A tibble: 6 × 2\n",
       "\n",
       "| age &lt;dbl&gt; | perwt &lt;int&gt; |\n",
       "|---|---|\n",
       "| 73 | 206 |\n",
       "| 31 |  45 |\n",
       "| 41 | 136 |\n",
       "| 48 | 121 |\n",
       "| 16 | 111 |\n",
       "| 37 |  18 |\n",
       "\n"
      ],
      "text/plain": [
       "  age perwt\n",
       "1 73  206  \n",
       "2 31   45  \n",
       "3 41  136  \n",
       "4 48  121  \n",
       "5 16  111  \n",
       "6 37   18  "
      ]
     },
     "metadata": {},
     "output_type": "display_data"
    },
    {
     "name": "stdout",
     "output_type": "stream",
     "text": [
      "Classes ‘tbl_df’, ‘tbl’ and 'data.frame':\t3190040 obs. of  2 variables:\n",
      " $ age  : num  73 31 41 48 16 37 18 17 7 3 ...\n",
      " $ perwt: int  206 45 136 121 111 18 13 23 21 27 ...\n"
     ]
    }
   ],
   "source": [
    "head(df)\n",
    "str(df)"
   ]
  },
  {
   "cell_type": "markdown",
   "metadata": {},
   "source": [
    "## Calculate the average age of the population\n",
    "\n",
    "To calculate the average age of the population is simple!\n",
    "\n",
    "We need to sum `perwt` and then divide that by `perwt` times the `age` for each row\n",
    "\n",
    "This gives those people with a higher `perwt` more weight"
   ]
  },
  {
   "cell_type": "code",
   "execution_count": 1,
   "metadata": {},
   "outputs": [
    {
     "ename": "ERROR",
     "evalue": "Error in df %>% summarize(count = sum(perwt), agetotal = sum(perwt * age)) %>% : could not find function \"%>%\"\n",
     "output_type": "error",
     "traceback": [
      "Error in df %>% summarize(count = sum(perwt), agetotal = sum(perwt * age)) %>% : could not find function \"%>%\"\nTraceback:\n"
     ]
    }
   ],
   "source": [
    "\n",
    "df_age <- df %>% \n",
    "    # summarize allows you get summary statistics about the dataset. In this case, we calculate the weighted total number of people represented in the survey by summing perwt, and get the weighted sum of the total ages of all people \n",
    "    summarize(count = sum(perwt),\n",
    "             agetotal = sum(perwt*age)) %>%\n",
    "   \n",
    "    # divide the weighted total of ages by the weighted total of people to get the average number of people\n",
    "    mutate(averageage = agetotal/count)\n",
    "\n",
    "# Look at the resulting number of people in the US\n",
    "df_age$count\n",
    "\n",
    "# Look at the resulting number for average age\n",
    "df_age$averageage\n"
   ]
  },
  {
   "cell_type": "markdown",
   "metadata": {},
   "source": [
    "You get the estimate quickly in this way, but you don't get a confidence interval\n",
    "\n",
    "It is also not possible to easily estimate the median"
   ]
  },
  {
   "cell_type": "markdown",
   "metadata": {},
   "source": [
    "## Getting more complicated statistics\n",
    "\n",
    "The easiest way to get more complicated statistics besides the average is to use a package. There are several survey packages but my favorite is \"srvyr\"\n",
    "\n",
    "The first thing we need to is take the data and turn it into a survey object\n"
   ]
  },
  {
   "cell_type": "code",
   "execution_count": 9,
   "metadata": {},
   "outputs": [],
   "source": [
    "df_survey <- df %>% as_survey(weights = perwt)"
   ]
  },
  {
   "cell_type": "markdown",
   "metadata": {},
   "source": [
    "### Calculating percentiles\n",
    "We can now easily calculate more complicated statistics like the median or the 10th and 90th percentile"
   ]
  },
  {
   "cell_type": "code",
   "execution_count": 10,
   "metadata": {},
   "outputs": [
    {
     "data": {
      "text/html": [
       "<table>\n",
       "<caption>A tibble: 1 × 6</caption>\n",
       "<thead>\n",
       "\t<tr><th scope=col>age_10th_q10</th><th scope=col>age_10th_q10_se</th><th scope=col>age_median</th><th scope=col>age_median_se</th><th scope=col>age_90th_q90</th><th scope=col>age_90th_q90_se</th></tr>\n",
       "\t<tr><th scope=col>&lt;dbl&gt;</th><th scope=col>&lt;dbl&gt;</th><th scope=col>&lt;dbl&gt;</th><th scope=col>&lt;dbl&gt;</th><th scope=col>&lt;dbl&gt;</th><th scope=col>&lt;dbl&gt;</th></tr>\n",
       "</thead>\n",
       "<tbody>\n",
       "\t<tr><td>8</td><td>0</td><td>38</td><td>0</td><td>70</td><td>0</td></tr>\n",
       "</tbody>\n",
       "</table>\n"
      ],
      "text/latex": [
       "A tibble: 1 × 6\n",
       "\\begin{tabular}{r|llllll}\n",
       " age\\_10th\\_q10 & age\\_10th\\_q10\\_se & age\\_median & age\\_median\\_se & age\\_90th\\_q90 & age\\_90th\\_q90\\_se\\\\\n",
       " <dbl> & <dbl> & <dbl> & <dbl> & <dbl> & <dbl>\\\\\n",
       "\\hline\n",
       "\t 8 & 0 & 38 & 0 & 70 & 0\\\\\n",
       "\\end{tabular}\n"
      ],
      "text/markdown": [
       "\n",
       "A tibble: 1 × 6\n",
       "\n",
       "| age_10th_q10 &lt;dbl&gt; | age_10th_q10_se &lt;dbl&gt; | age_median &lt;dbl&gt; | age_median_se &lt;dbl&gt; | age_90th_q90 &lt;dbl&gt; | age_90th_q90_se &lt;dbl&gt; |\n",
       "|---|---|---|---|---|---|\n",
       "| 8 | 0 | 38 | 0 | 70 | 0 |\n",
       "\n"
      ],
      "text/plain": [
       "  age_10th_q10 age_10th_q10_se age_median age_median_se age_90th_q90\n",
       "1 8            0               38         0             70          \n",
       "  age_90th_q90_se\n",
       "1 0              "
      ]
     },
     "metadata": {},
     "output_type": "display_data"
    }
   ],
   "source": [
    "df_survey %>%\n",
    "    # Calculate 10th and 90th percentiles and the median. The result automatically gives the standard error of the estimate \n",
    "    summarise(age_10th = survey_quantile(age, .1),\n",
    "              age_median = survey_median(age),\n",
    "              age_90th = survey_quantile(age, .9))\n"
   ]
  },
  {
   "cell_type": "markdown",
   "metadata": {},
   "source": [
    "### Calculating a confidence interval\n",
    "\n",
    "If you want the confidence interval for your estimate just add `vartype = c(\"ci\")` to the survey_quantile arguement.\n",
    "\n",
    "In this case it doesn't really make a difference, the 90th percentile estimate is the same as the 10th. It's a big dataset, so it's very accurate.\n"
   ]
  },
  {
   "cell_type": "code",
   "execution_count": 13,
   "metadata": {},
   "outputs": [
    {
     "data": {
      "text/html": [
       "<table>\n",
       "<caption>A tibble: 1 × 3</caption>\n",
       "<thead>\n",
       "\t<tr><th scope=col>age_10th_q10</th><th scope=col>age_10th_q10_low</th><th scope=col>age_10th_q10_upp</th></tr>\n",
       "\t<tr><th scope=col>&lt;dbl&gt;</th><th scope=col>&lt;dbl&gt;</th><th scope=col>&lt;dbl&gt;</th></tr>\n",
       "</thead>\n",
       "<tbody>\n",
       "\t<tr><td>8</td><td>8</td><td>8</td></tr>\n",
       "</tbody>\n",
       "</table>\n"
      ],
      "text/latex": [
       "A tibble: 1 × 3\n",
       "\\begin{tabular}{r|lll}\n",
       " age\\_10th\\_q10 & age\\_10th\\_q10\\_low & age\\_10th\\_q10\\_upp\\\\\n",
       " <dbl> & <dbl> & <dbl>\\\\\n",
       "\\hline\n",
       "\t 8 & 8 & 8\\\\\n",
       "\\end{tabular}\n"
      ],
      "text/markdown": [
       "\n",
       "A tibble: 1 × 3\n",
       "\n",
       "| age_10th_q10 &lt;dbl&gt; | age_10th_q10_low &lt;dbl&gt; | age_10th_q10_upp &lt;dbl&gt; |\n",
       "|---|---|---|\n",
       "| 8 | 8 | 8 |\n",
       "\n"
      ],
      "text/plain": [
       "  age_10th_q10 age_10th_q10_low age_10th_q10_upp\n",
       "1 8            8                8               "
      ]
     },
     "metadata": {},
     "output_type": "display_data"
    }
   ],
   "source": [
    "df_survey %>%\n",
    "    summarise(\n",
    "        age_10th = survey_quantile(age, .1, vartype = c(\"ci\"))\n",
    "    )"
   ]
  },
  {
   "cell_type": "code",
   "execution_count": null,
   "metadata": {},
   "outputs": [],
   "source": []
  }
 ],
 "metadata": {
  "kernelspec": {
   "display_name": "R",
   "language": "R",
   "name": "ir"
  },
  "language_info": {
   "codemirror_mode": "r",
   "file_extension": ".r",
   "mimetype": "text/x-r-source",
   "name": "R",
   "pygments_lexer": "r",
   "version": "3.6.1"
  }
 },
 "nbformat": 4,
 "nbformat_minor": 2
}
